{
 "cells": [
  {
   "cell_type": "code",
   "execution_count": 2,
   "metadata": {
    "collapsed": true
   },
   "outputs": [],
   "source": [
    "import numpy as np\n",
    "import pandas as pd\n",
    "import os"
   ]
  },
  {
   "cell_type": "code",
   "execution_count": 2,
   "metadata": {
    "collapsed": true
   },
   "outputs": [],
   "source": [
    "os.chdir('D:\\Columbia\\Bayesian\\project')"
   ]
  },
  {
   "cell_type": "code",
   "execution_count": 3,
   "metadata": {
    "collapsed": true
   },
   "outputs": [],
   "source": [
    "business  = pd.read_csv('yelp_business.csv')"
   ]
  },
  {
   "cell_type": "code",
   "execution_count": 4,
   "metadata": {
    "collapsed": true
   },
   "outputs": [],
   "source": [
    "review  = pd.read_csv('yelp_review.csv')"
   ]
  },
  {
   "cell_type": "code",
   "execution_count": 5,
   "metadata": {
    "collapsed": true
   },
   "outputs": [],
   "source": [
    "data = business[(business['city']=='Las Vegas')|(business['city']=='Phoenix')|(business['city']=='Toronto')]"
   ]
  },
  {
   "cell_type": "code",
   "execution_count": 6,
   "metadata": {
    "collapsed": true
   },
   "outputs": [],
   "source": [
    "combine = pd.merge(data, review, on = \"business_id\")"
   ]
  },
  {
   "cell_type": "code",
   "execution_count": 7,
   "metadata": {
    "collapsed": true
   },
   "outputs": [],
   "source": [
    "combine_copy = combine"
   ]
  },
  {
   "cell_type": "code",
   "execution_count": 8,
   "metadata": {},
   "outputs": [
    {
     "data": {
      "text/plain": [
       "(2611912, 21)"
      ]
     },
     "execution_count": 8,
     "metadata": {},
     "output_type": "execute_result"
    }
   ],
   "source": [
    "combine.shape"
   ]
  },
  {
   "cell_type": "code",
   "execution_count": 9,
   "metadata": {},
   "outputs": [
    {
     "data": {
      "text/plain": [
       "pandas.core.series.Series"
      ]
     },
     "execution_count": 9,
     "metadata": {},
     "output_type": "execute_result"
    }
   ],
   "source": [
    "type(combine['categories'])"
   ]
  },
  {
   "cell_type": "code",
   "execution_count": 10,
   "metadata": {
    "collapsed": true
   },
   "outputs": [],
   "source": [
    "cat = np.array(combine.categories,dtype=np.str)\n",
    "food = np.empty(len(cat))\n",
    "foodDescription = set(['Restaurants','restaurants'])\n",
    "for i in range(len(cat)):\n",
    "    thisSet = set(cat[i].split(';'))\n",
    "    union = len(thisSet.intersection(foodDescription))\n",
    "    food[i] = union >=1\n",
    "foodIndex = np.array(food,dtype=np.bool)\n",
    "combine = combine[foodIndex]"
   ]
  },
  {
   "cell_type": "code",
   "execution_count": 11,
   "metadata": {},
   "outputs": [
    {
     "data": {
      "text/plain": [
       "array(['Italian;French;Restaurants',\n",
       "       'Tiki Bars;Nightlife;Mexican;Restaurants;Bars',\n",
       "       'Restaurants;Breakfast & Brunch', ...,\n",
       "       'Food;Restaurants;International Grocery;Ethnic Grocery;Persian/Iranian',\n",
       "       'Food;Grocery;Restaurants;Coffee & Tea;Indian',\n",
       "       'Nightlife;Restaurants;Sandwiches;Bars;Canadian (New);Asian Fusion;Pubs'], dtype=object)"
      ]
     },
     "execution_count": 11,
     "metadata": {},
     "output_type": "execute_result"
    }
   ],
   "source": [
    "combine.categories.unique()"
   ]
  },
  {
   "cell_type": "code",
   "execution_count": 12,
   "metadata": {},
   "outputs": [
    {
     "data": {
      "text/plain": [
       "(1450325, 21)"
      ]
     },
     "execution_count": 12,
     "metadata": {},
     "output_type": "execute_result"
    }
   ],
   "source": [
    "combine.shape"
   ]
  },
  {
   "cell_type": "code",
   "execution_count": 13,
   "metadata": {
    "collapsed": true
   },
   "outputs": [],
   "source": [
    "combine.to_csv(\"review.csv\")"
   ]
  },
  {
   "cell_type": "code",
   "execution_count": 14,
   "metadata": {},
   "outputs": [
    {
     "data": {
      "text/html": [
       "<div>\n",
       "<style>\n",
       "    .dataframe thead tr:only-child th {\n",
       "        text-align: right;\n",
       "    }\n",
       "\n",
       "    .dataframe thead th {\n",
       "        text-align: left;\n",
       "    }\n",
       "\n",
       "    .dataframe tbody tr th {\n",
       "        vertical-align: top;\n",
       "    }\n",
       "</style>\n",
       "<table border=\"1\" class=\"dataframe\">\n",
       "  <thead>\n",
       "    <tr style=\"text-align: right;\">\n",
       "      <th></th>\n",
       "      <th>business_id</th>\n",
       "      <th>name</th>\n",
       "      <th>neighborhood</th>\n",
       "      <th>address</th>\n",
       "      <th>city</th>\n",
       "      <th>state</th>\n",
       "      <th>postal_code</th>\n",
       "      <th>latitude</th>\n",
       "      <th>longitude</th>\n",
       "      <th>stars_x</th>\n",
       "      <th>...</th>\n",
       "      <th>is_open</th>\n",
       "      <th>categories</th>\n",
       "      <th>review_id</th>\n",
       "      <th>user_id</th>\n",
       "      <th>stars_y</th>\n",
       "      <th>date</th>\n",
       "      <th>text</th>\n",
       "      <th>useful</th>\n",
       "      <th>funny</th>\n",
       "      <th>cool</th>\n",
       "    </tr>\n",
       "  </thead>\n",
       "  <tbody>\n",
       "    <tr>\n",
       "      <th>32</th>\n",
       "      <td>l09JfMeQ6ynYs5MCJtrcmQ</td>\n",
       "      <td>\"Alize Catering\"</td>\n",
       "      <td>Yonge and Eglinton</td>\n",
       "      <td>\"2459 Yonge St\"</td>\n",
       "      <td>Toronto</td>\n",
       "      <td>ON</td>\n",
       "      <td>M4P 2H6</td>\n",
       "      <td>43.711399</td>\n",
       "      <td>-79.399339</td>\n",
       "      <td>3.0</td>\n",
       "      <td>...</td>\n",
       "      <td>0</td>\n",
       "      <td>Italian;French;Restaurants</td>\n",
       "      <td>hxScRYhJjvlCbU_SRZIttg</td>\n",
       "      <td>JBFxD8XxPwkfLsKWgkKNOg</td>\n",
       "      <td>4</td>\n",
       "      <td>2009-11-09</td>\n",
       "      <td>Wow, this has to be the cutest restaurant in T...</td>\n",
       "      <td>5</td>\n",
       "      <td>2</td>\n",
       "      <td>5</td>\n",
       "    </tr>\n",
       "    <tr>\n",
       "      <th>33</th>\n",
       "      <td>l09JfMeQ6ynYs5MCJtrcmQ</td>\n",
       "      <td>\"Alize Catering\"</td>\n",
       "      <td>Yonge and Eglinton</td>\n",
       "      <td>\"2459 Yonge St\"</td>\n",
       "      <td>Toronto</td>\n",
       "      <td>ON</td>\n",
       "      <td>M4P 2H6</td>\n",
       "      <td>43.711399</td>\n",
       "      <td>-79.399339</td>\n",
       "      <td>3.0</td>\n",
       "      <td>...</td>\n",
       "      <td>0</td>\n",
       "      <td>Italian;French;Restaurants</td>\n",
       "      <td>JwuliBkc0CZdMdGPc_jsWQ</td>\n",
       "      <td>bUpxtyX3huMoWfcMCZksig</td>\n",
       "      <td>1</td>\n",
       "      <td>2011-06-07</td>\n",
       "      <td>Failure to communicate is an understatement.  ...</td>\n",
       "      <td>1</td>\n",
       "      <td>0</td>\n",
       "      <td>0</td>\n",
       "    </tr>\n",
       "    <tr>\n",
       "      <th>34</th>\n",
       "      <td>l09JfMeQ6ynYs5MCJtrcmQ</td>\n",
       "      <td>\"Alize Catering\"</td>\n",
       "      <td>Yonge and Eglinton</td>\n",
       "      <td>\"2459 Yonge St\"</td>\n",
       "      <td>Toronto</td>\n",
       "      <td>ON</td>\n",
       "      <td>M4P 2H6</td>\n",
       "      <td>43.711399</td>\n",
       "      <td>-79.399339</td>\n",
       "      <td>3.0</td>\n",
       "      <td>...</td>\n",
       "      <td>0</td>\n",
       "      <td>Italian;French;Restaurants</td>\n",
       "      <td>VLLXGqqF0TqKFzzQ5n9nSQ</td>\n",
       "      <td>Po6gGHh9OQVsdgBVPxTnzg</td>\n",
       "      <td>5</td>\n",
       "      <td>2008-09-10</td>\n",
       "      <td>Hoorah! Yelp Review #100!! And I crossed a boa...</td>\n",
       "      <td>1</td>\n",
       "      <td>0</td>\n",
       "      <td>0</td>\n",
       "    </tr>\n",
       "    <tr>\n",
       "      <th>35</th>\n",
       "      <td>l09JfMeQ6ynYs5MCJtrcmQ</td>\n",
       "      <td>\"Alize Catering\"</td>\n",
       "      <td>Yonge and Eglinton</td>\n",
       "      <td>\"2459 Yonge St\"</td>\n",
       "      <td>Toronto</td>\n",
       "      <td>ON</td>\n",
       "      <td>M4P 2H6</td>\n",
       "      <td>43.711399</td>\n",
       "      <td>-79.399339</td>\n",
       "      <td>3.0</td>\n",
       "      <td>...</td>\n",
       "      <td>0</td>\n",
       "      <td>Italian;French;Restaurants</td>\n",
       "      <td>SehQINlRNedBz7WR6pE66Q</td>\n",
       "      <td>BD43U0mfg5YcinywSZIQsQ</td>\n",
       "      <td>3</td>\n",
       "      <td>2012-04-15</td>\n",
       "      <td>Been here a few times  and polite staff\\nWith ...</td>\n",
       "      <td>0</td>\n",
       "      <td>0</td>\n",
       "      <td>0</td>\n",
       "    </tr>\n",
       "    <tr>\n",
       "      <th>36</th>\n",
       "      <td>l09JfMeQ6ynYs5MCJtrcmQ</td>\n",
       "      <td>\"Alize Catering\"</td>\n",
       "      <td>Yonge and Eglinton</td>\n",
       "      <td>\"2459 Yonge St\"</td>\n",
       "      <td>Toronto</td>\n",
       "      <td>ON</td>\n",
       "      <td>M4P 2H6</td>\n",
       "      <td>43.711399</td>\n",
       "      <td>-79.399339</td>\n",
       "      <td>3.0</td>\n",
       "      <td>...</td>\n",
       "      <td>0</td>\n",
       "      <td>Italian;French;Restaurants</td>\n",
       "      <td>d_XvHHzNJ_YDWYKBkcZJew</td>\n",
       "      <td>7hAhYoMPjHnxKCz6MQ95Bg</td>\n",
       "      <td>2</td>\n",
       "      <td>2011-03-27</td>\n",
       "      <td>So we had a deal find coupon for this restaura...</td>\n",
       "      <td>1</td>\n",
       "      <td>1</td>\n",
       "      <td>2</td>\n",
       "    </tr>\n",
       "  </tbody>\n",
       "</table>\n",
       "<p>5 rows × 21 columns</p>\n",
       "</div>"
      ],
      "text/plain": [
       "               business_id              name        neighborhood  \\\n",
       "32  l09JfMeQ6ynYs5MCJtrcmQ  \"Alize Catering\"  Yonge and Eglinton   \n",
       "33  l09JfMeQ6ynYs5MCJtrcmQ  \"Alize Catering\"  Yonge and Eglinton   \n",
       "34  l09JfMeQ6ynYs5MCJtrcmQ  \"Alize Catering\"  Yonge and Eglinton   \n",
       "35  l09JfMeQ6ynYs5MCJtrcmQ  \"Alize Catering\"  Yonge and Eglinton   \n",
       "36  l09JfMeQ6ynYs5MCJtrcmQ  \"Alize Catering\"  Yonge and Eglinton   \n",
       "\n",
       "            address     city state postal_code   latitude  longitude  stars_x  \\\n",
       "32  \"2459 Yonge St\"  Toronto    ON     M4P 2H6  43.711399 -79.399339      3.0   \n",
       "33  \"2459 Yonge St\"  Toronto    ON     M4P 2H6  43.711399 -79.399339      3.0   \n",
       "34  \"2459 Yonge St\"  Toronto    ON     M4P 2H6  43.711399 -79.399339      3.0   \n",
       "35  \"2459 Yonge St\"  Toronto    ON     M4P 2H6  43.711399 -79.399339      3.0   \n",
       "36  \"2459 Yonge St\"  Toronto    ON     M4P 2H6  43.711399 -79.399339      3.0   \n",
       "\n",
       "    ...   is_open                  categories               review_id  \\\n",
       "32  ...         0  Italian;French;Restaurants  hxScRYhJjvlCbU_SRZIttg   \n",
       "33  ...         0  Italian;French;Restaurants  JwuliBkc0CZdMdGPc_jsWQ   \n",
       "34  ...         0  Italian;French;Restaurants  VLLXGqqF0TqKFzzQ5n9nSQ   \n",
       "35  ...         0  Italian;French;Restaurants  SehQINlRNedBz7WR6pE66Q   \n",
       "36  ...         0  Italian;French;Restaurants  d_XvHHzNJ_YDWYKBkcZJew   \n",
       "\n",
       "                   user_id stars_y        date  \\\n",
       "32  JBFxD8XxPwkfLsKWgkKNOg       4  2009-11-09   \n",
       "33  bUpxtyX3huMoWfcMCZksig       1  2011-06-07   \n",
       "34  Po6gGHh9OQVsdgBVPxTnzg       5  2008-09-10   \n",
       "35  BD43U0mfg5YcinywSZIQsQ       3  2012-04-15   \n",
       "36  7hAhYoMPjHnxKCz6MQ95Bg       2  2011-03-27   \n",
       "\n",
       "                                                 text useful  funny  cool  \n",
       "32  Wow, this has to be the cutest restaurant in T...      5      2     5  \n",
       "33  Failure to communicate is an understatement.  ...      1      0     0  \n",
       "34  Hoorah! Yelp Review #100!! And I crossed a boa...      1      0     0  \n",
       "35  Been here a few times  and polite staff\\nWith ...      0      0     0  \n",
       "36  So we had a deal find coupon for this restaura...      1      1     2  \n",
       "\n",
       "[5 rows x 21 columns]"
      ]
     },
     "execution_count": 14,
     "metadata": {},
     "output_type": "execute_result"
    }
   ],
   "source": [
    "combine.head(5)"
   ]
  },
  {
   "cell_type": "code",
   "execution_count": 15,
   "metadata": {},
   "outputs": [
    {
     "data": {
      "text/plain": [
       "Index(['business_id', 'name', 'neighborhood', 'address', 'city', 'state',\n",
       "       'postal_code', 'latitude', 'longitude', 'stars_x', 'review_count',\n",
       "       'is_open', 'categories', 'review_id', 'user_id', 'stars_y', 'date',\n",
       "       'text', 'useful', 'funny', 'cool'],\n",
       "      dtype='object')"
      ]
     },
     "execution_count": 15,
     "metadata": {},
     "output_type": "execute_result"
    }
   ],
   "source": [
    "combine.columns"
   ]
  },
  {
   "cell_type": "code",
   "execution_count": 16,
   "metadata": {
    "collapsed": true
   },
   "outputs": [],
   "source": [
    "combine_sub = combine[[\"stars_y\", \"text\", \"useful\", \"funny\", \"cool\"]]"
   ]
  },
  {
   "cell_type": "code",
   "execution_count": 18,
   "metadata": {
    "collapsed": true
   },
   "outputs": [],
   "source": [
    "combine_sub.to_csv(\"text.csv\")"
   ]
  },
  {
   "cell_type": "code",
   "execution_count": null,
   "metadata": {
    "collapsed": true
   },
   "outputs": [],
   "source": []
  }
 ],
 "metadata": {
  "kernelspec": {
   "display_name": "Python 3",
   "language": "python",
   "name": "python3"
  },
  "language_info": {
   "codemirror_mode": {
    "name": "ipython",
    "version": 3
   },
   "file_extension": ".py",
   "mimetype": "text/x-python",
   "name": "python",
   "nbconvert_exporter": "python",
   "pygments_lexer": "ipython3",
   "version": "3.6.1"
  }
 },
 "nbformat": 4,
 "nbformat_minor": 2
}
